{
 "cells": [
  {
   "cell_type": "code",
   "execution_count": 47,
   "metadata": {
    "collapsed": false
   },
   "outputs": [],
   "source": [
    "import sys\n",
    "sys.path.append('../..')\n",
    "from pprint import pprint"
   ]
  },
  {
   "cell_type": "markdown",
   "metadata": {},
   "source": [
    "### Parsing Slack sentences"
   ]
  },
  {
   "cell_type": "code",
   "execution_count": 69,
   "metadata": {
    "collapsed": false
   },
   "outputs": [
    {
     "data": {
      "text/plain": [
       "{'emojis': [],\n",
       " 'mentions': ['noag'],\n",
       " 'sanitized': '\\n: which parrot mini drone?  \\nI\\xe2\\x80\\x99ve had some success using this with a Parrot Rolling Spider mini drone: \\n\\n',\n",
       " 'text': '\\n@noag: which parrot mini drone?  \\nI\\xe2\\x80\\x99ve had some success using this with a Parrot Rolling Spider mini drone: \\nhttp://github.com/voodootikigod/node-rolling-spider\\n',\n",
       " 'urls': ['http://github.com/voodootikigod/node-rolling-spider']}"
      ]
     },
     "execution_count": 69,
     "metadata": {},
     "output_type": "execute_result"
    }
   ],
   "source": [
    "from segmentation.preprocessing.slack import *\n",
    "parse_body('''\n",
    "@noag: which parrot mini drone?  \n",
    "I’ve had some success using this with a Parrot Rolling Spider mini drone: \n",
    "http://github.com/voodootikigod/node-rolling-spider\n",
    "''')"
   ]
  },
  {
   "cell_type": "markdown",
   "metadata": {},
   "source": [
    "### Extract sentence feature"
   ]
  },
  {
   "cell_type": "code",
   "execution_count": 54,
   "metadata": {
    "collapsed": false
   },
   "outputs": [
    {
     "name": "stdout",
     "output_type": "stream",
     "text": [
      "{'concepts': [{u'dbpedia': u\"http://dbpedia.org/resource/Valentine's_Day\",\n",
      "               u'freebase': u'http://rdf.freebase.com/ns/m.018y5m',\n",
      "               u'opencyc': u'http://sw.opencyc.org/concept/Mx4rvVjgYZwpEbGdrcN5Y29ycA',\n",
      "               u'relevance': u'0.91136',\n",
      "               u'text': u\"Valentine's Day\",\n",
      "               u'yago': u\"http://yago-knowledge.org/resource/Valentine's_Day\"}],\n",
      " 'emojis': [],\n",
      " 'entities': [],\n",
      " 'keywords': [{u'relevance': u'0.993352', u'text': u'Valentine'},\n",
      "              {u'relevance': u'0.880159', u'text': u'hacker'},\n",
      "              {u'relevance': u'0.809776', u'text': u'weekend'}],\n",
      " 'mentions': [],\n",
      " 'sanitized': \"Don't forget it's Valentine's Day tomorrow!! \\n                    Put your name down if you wanna meet your hacker valentine this weekend\\n                    \",\n",
      " 'taxonomy': [{u'label': u'/shopping/gifts/flowers', u'score': u'0.707805'},\n",
      "              {u'confident': u'no',\n",
      "               u'label': u'/society/dating',\n",
      "               u'score': u'0.110189'},\n",
      "              {u'confident': u'no',\n",
      "               u'label': u'/technology and computing/hardware/computer',\n",
      "               u'score': u'0.0967641'}],\n",
      " 'text': \"Don't forget it's Valentine's Day tomorrow!! \\n                    Put your name down if you wanna meet your hacker valentine this weekend\\n                    \",\n",
      " 'urls': []}\n"
     ]
    }
   ],
   "source": [
    "feat1 = extract_all(parse_body(\n",
    "                    '''Don't forget it's Valentine's Day tomorrow!! \n",
    "                    Put your name down if you wanna meet your hacker valentine this weekend\n",
    "                    '''))\n",
    "pprint(feat1)"
   ]
  },
  {
   "cell_type": "code",
   "execution_count": 59,
   "metadata": {
    "collapsed": false
   },
   "outputs": [
    {
     "name": "stdout",
     "output_type": "stream",
     "text": [
      "{'concepts': [{u'dbpedia': u\"http://dbpedia.org/resource/Valentine's_Day\",\n",
      "               u'freebase': u'http://rdf.freebase.com/ns/m.018y5m',\n",
      "               u'opencyc': u'http://sw.opencyc.org/concept/Mx4rvVjgYZwpEbGdrcN5Y29ycA',\n",
      "               u'relevance': u'0.91136',\n",
      "               u'text': u\"Valentine's Day\",\n",
      "               u'yago': u\"http://yago-knowledge.org/resource/Valentine's_Day\"}],\n",
      " 'emojis': [],\n",
      " 'entities': [],\n",
      " 'keywords': [{u'relevance': u'0.980859', u'text': u'Valentine'},\n",
      "              {u'relevance': u'0.869746', u'text': u'tea'}],\n",
      " 'mentions': [],\n",
      " 'sanitized': \"I would like to celebrate Valentine's Day with tea!\\n                    \",\n",
      " 'taxonomy': [{u'label': u'/food and drink/beverages/non alcoholic beverages/coffee and tea',\n",
      "               u'score': u'0.737093'},\n",
      "              {u'confident': u'no',\n",
      "               u'label': u'/shopping/gifts',\n",
      "               u'score': u'0.205532'},\n",
      "              {u'confident': u'no',\n",
      "               u'label': u'/art and entertainment/shows and events/festival',\n",
      "               u'score': u'0.123473'}],\n",
      " 'text': \"I would like to celebrate Valentine's Day with tea!\\n                    \",\n",
      " 'urls': []}\n"
     ]
    }
   ],
   "source": [
    "feat2 = extract_all(parse_body(\n",
    "                    '''I would like to celebrate Valentine's Day with tea!\n",
    "                    '''))\n",
    "pprint(feat2)"
   ]
  },
  {
   "cell_type": "code",
   "execution_count": 70,
   "metadata": {
    "collapsed": false
   },
   "outputs": [
    {
     "data": {
      "text/plain": [
       "-0.993352"
      ]
     },
     "execution_count": 70,
     "metadata": {},
     "output_type": "execute_result"
    }
   ],
   "source": [
    "# distance measure.\n",
    "keywords_l0(feat1, feat2)"
   ]
  },
  {
   "cell_type": "markdown",
   "metadata": {},
   "source": [
    "### Clustering"
   ]
  },
  {
   "cell_type": "code",
   "execution_count": 68,
   "metadata": {
    "collapsed": false
   },
   "outputs": [
    {
     "name": "stdout",
     "output_type": "stream",
     "text": [
      "[[ 14.63311338   2.70027063   1.        ]\n",
      " [  2.66674599   6.36366838   1.        ]\n",
      " [  1.           1.           7.86332858]]\n"
     ]
    },
    {
     "data": {
      "text/plain": [
       "array([1, 1, 0], dtype=int32)"
      ]
     },
     "execution_count": 68,
     "metadata": {},
     "output_type": "execute_result"
    }
   ],
   "source": [
    "from segmentation.cluster import spectral_clustering\n",
    "messages = [\n",
    "    '''\n",
    "    Don't forget it's Valentine's Day tomorrow!! \n",
    "                    Put your name down if you wanna meet your hacker valentine this weekend\n",
    "    ''',\n",
    "    '''\n",
    "    I would like to celebrate Valentine's Day with tea!\n",
    "    ''',\n",
    "    '''\n",
    "    which parrot mini drone?  \n",
    "    I\\u2019ve had some success using this with a Parrot Spider mini drone:\n",
    "    '''\n",
    "]\n",
    "spectral_clustering(messages, num_clusters=2)"
   ]
  },
  {
   "cell_type": "code",
   "execution_count": null,
   "metadata": {
    "collapsed": true
   },
   "outputs": [],
   "source": []
  }
 ],
 "metadata": {
  "kernelspec": {
   "display_name": "Python 2",
   "language": "python",
   "name": "python2"
  },
  "language_info": {
   "codemirror_mode": {
    "name": "ipython",
    "version": 2
   },
   "file_extension": ".py",
   "mimetype": "text/x-python",
   "name": "python",
   "nbconvert_exporter": "python",
   "pygments_lexer": "ipython2",
   "version": "2.7.10"
  }
 },
 "nbformat": 4,
 "nbformat_minor": 0
}
